{
 "cells": [
  {
   "cell_type": "code",
   "execution_count": 1,
   "metadata": {},
   "outputs": [],
   "source": [
    "# Todo: format np.array plotting better, fix significant digit display, if time: fix script so that P vectors are 'column stacked'\n",
    "# then could use for loops in lambdify cells\n",
    "\n",
    "import sympy as sp\n",
    "import numpy as np\n",
    "sp.init_printing()\n",
    "from fractions import Fraction\n",
    "from math import sqrt, sin, cos, pi, radians"
   ]
  },
  {
   "cell_type": "code",
   "execution_count": 2,
   "metadata": {},
   "outputs": [],
   "source": [
    "# Define symbolic variables\n",
    "g = sp.symbols(\"g\")\n",
    "L_torso, L_leg1, L_leg2 = sp.symbols(\"L_torso\"), sp.symbols(\"L_leg1\"), sp.symbols(\"L_leg2\")\n",
    "m_torso, m_leg1, m_leg2 = sp.symbols(\"m_torso\"), sp.symbols(\"m_leg1\"), sp.symbols(\"m_leg2\")\n",
    "I_torso, I_leg1, I_leg2 = sp.symbols(\"I_torso\"), sp.symbols(\"I_leg1\"), sp.symbols(\"I_leg2\")\n",
    "\n",
    "t = sp.symbols(\"t\")\n",
    "x = sp.Function(\"x\")(t)\n",
    "y = sp.Function(\"y\")(t)\n",
    "q1 = sp.Function(\"q1\")(t)\n",
    "q2 = sp.Function(\"q2\")(t)\n",
    "q3 = sp.Function(\"q3\")(t)\n",
    "xdot = sp.symbols(\"xdot\")\n",
    "ydot = sp.symbols(\"ydot\")\n",
    "qdot_1 = sp.symbols(\"qdot_1\")\n",
    "qdot_2 = sp.symbols(\"qdot_2\")\n",
    "qdot_3 = sp.symbols(\"qdot_3\")"
   ]
  },
  {
   "cell_type": "code",
   "execution_count": 3,
   "metadata": {},
   "outputs": [],
   "source": [
    "# Define given configurations and velocities, also define robot parameters (moment of inertia's about COM)\n",
    "L_torso_num, L_leg1_num, L_leg2_num = Fraction(1,2), 1, 1\n",
    "m_torso_num, m_leg1_num, m_leg2_num = 10, 5, 5\n",
    "I_torso_num, I_leg1_num, I_leg2_num = 1, Fraction(1,2), Fraction(1,2) \n",
    "g_num = 9.81\n",
    "\n",
    "qi = [Fraction(1,2), Fraction(1,2)*sqrt(3), 150*pi/180, 120*pi/180, 30*pi/180]\n",
    "qdoti = [-0.8049, -0.4430, 0.0938, 0.9150, 0.9298]\n",
    "qii = [0.3420, 0.9397, 170*pi/180, 20*pi/180, 30*pi/180]\n",
    "qdotii = [-0.1225, -0.2369, 0.5310, 0.5904, 0.6263]"
   ]
  },
  {
   "cell_type": "code",
   "execution_count": 4,
   "metadata": {},
   "outputs": [
    {
     "data": {
      "text/latex": [
       "$$\\left[\\begin{matrix}\\frac{L_{torso} \\sin{\\left (\\operatorname{q_{3}}{\\left (t \\right )} \\right )}}{2} + x{\\left (t \\right )}\\\\\\frac{L_{torso} \\cos{\\left (\\operatorname{q_{3}}{\\left (t \\right )} \\right )}}{2} + y{\\left (t \\right )}\\end{matrix}\\right]$$"
      ],
      "text/plain": [
       "⎡Lₜₒᵣₛₒ⋅sin(q₃(t))       ⎤\n",
       "⎢───────────────── + x(t)⎥\n",
       "⎢        2               ⎥\n",
       "⎢                        ⎥\n",
       "⎢Lₜₒᵣₛₒ⋅cos(q₃(t))       ⎥\n",
       "⎢───────────────── + y(t)⎥\n",
       "⎣        2               ⎦"
      ]
     },
     "metadata": {},
     "output_type": "display_data"
    }
   ],
   "source": [
    "# Symbolically compute Torso COM position\n",
    "torso_pos_COM_x = (Fraction(1,2)*L_torso*sp.sin(q3) + x)\n",
    "torso_pos_COM_y = (Fraction(1,2)*L_torso*sp.cos(q3) + y)\n",
    "torso_pos_COM_sym = sp.Matrix([[torso_pos_COM_x], [torso_pos_COM_y]])\n",
    "display(torso_pos_COM_sym)"
   ]
  },
  {
   "cell_type": "code",
   "execution_count": 5,
   "metadata": {},
   "outputs": [
    {
     "data": {
      "text/latex": [
       "$$\\left[\\begin{matrix}\\frac{L_{leg1} \\sin{\\left (\\operatorname{q_{1}}{\\left (t \\right )} + \\operatorname{q_{3}}{\\left (t \\right )} \\right )}}{2} + x{\\left (t \\right )}\\\\\\frac{L_{leg1} \\cos{\\left (\\operatorname{q_{1}}{\\left (t \\right )} + \\operatorname{q_{3}}{\\left (t \\right )} \\right )}}{2} + y{\\left (t \\right )}\\end{matrix}\\right]$$"
      ],
      "text/plain": [
       "⎡L_leg1⋅sin(q₁(t) + q₃(t))       ⎤\n",
       "⎢───────────────────────── + x(t)⎥\n",
       "⎢            2                   ⎥\n",
       "⎢                                ⎥\n",
       "⎢L_leg1⋅cos(q₁(t) + q₃(t))       ⎥\n",
       "⎢───────────────────────── + y(t)⎥\n",
       "⎣            2                   ⎦"
      ]
     },
     "metadata": {},
     "output_type": "display_data"
    }
   ],
   "source": [
    "# Symbolically compute Leg 1 COM position\n",
    "Leg1_pos_COM_x = (-Fraction(1,2)*L_leg1*sp.sin(q1+q3 - sp.pi) + x)\n",
    "Leg1_pos_COM_y = (-Fraction(1,2)*L_leg1*sp.cos(q1+q3 - sp.pi) + y)\n",
    "Leg1_pos_COM_sym = sp.Matrix([[Leg1_pos_COM_x], [Leg1_pos_COM_y]])\n",
    "display(Leg1_pos_COM_sym)"
   ]
  },
  {
   "cell_type": "code",
   "execution_count": 6,
   "metadata": {},
   "outputs": [
    {
     "data": {
      "text/latex": [
       "$$\\left[\\begin{matrix}\\frac{L_{leg2} \\sin{\\left (\\operatorname{q_{2}}{\\left (t \\right )} + \\operatorname{q_{3}}{\\left (t \\right )} \\right )}}{2} + x{\\left (t \\right )}\\\\\\frac{L_{leg2} \\cos{\\left (\\operatorname{q_{2}}{\\left (t \\right )} + \\operatorname{q_{3}}{\\left (t \\right )} \\right )}}{2} + y{\\left (t \\right )}\\end{matrix}\\right]$$"
      ],
      "text/plain": [
       "⎡L_leg2⋅sin(q₂(t) + q₃(t))       ⎤\n",
       "⎢───────────────────────── + x(t)⎥\n",
       "⎢            2                   ⎥\n",
       "⎢                                ⎥\n",
       "⎢L_leg2⋅cos(q₂(t) + q₃(t))       ⎥\n",
       "⎢───────────────────────── + y(t)⎥\n",
       "⎣            2                   ⎦"
      ]
     },
     "metadata": {},
     "output_type": "display_data"
    }
   ],
   "source": [
    "# Symbolically compute Leg 2 COM position\n",
    "Leg2_pos_COM_x = (Fraction(1,2)*L_leg2*sp.sin(sp.pi - (q2+q3)) + x)\n",
    "Leg2_pos_COM_y = (-Fraction(1,2)*L_leg2*sp.cos(sp.pi - (q2+q3)) + y)\n",
    "Leg2_pos_COM_sym = sp.Matrix([[Leg2_pos_COM_x], [Leg2_pos_COM_y]])\n",
    "display(Leg2_pos_COM_sym)"
   ]
  },
  {
   "cell_type": "code",
   "execution_count": 7,
   "metadata": {},
   "outputs": [],
   "source": [
    "# Convert symbolic expressions into functions with numerical inputs\n",
    "torso_pos_COM_x_num = sp.lambdify((x,y,q1,q2,q3,L_torso), torso_pos_COM_x)\n",
    "torso_pos_COM_y_num = sp.lambdify((x,y,q1,q2,q3,L_torso), torso_pos_COM_y)\n",
    "torso_pos_COM_num = np.array([[torso_pos_COM_x_num], [torso_pos_COM_y_num]])\n",
    "\n",
    "Leg1_pos_COM_x_num = sp.lambdify((x,y,q1,q2,q3,L_leg1), Leg1_pos_COM_x)\n",
    "Leg1_pos_COM_y_num = sp.lambdify((x,y,q1,q2,q3,L_leg1), Leg1_pos_COM_y)\n",
    "Leg1_pos_COM_num = np.array([[Leg1_pos_COM_x_num], [Leg1_pos_COM_y_num]])\n",
    "\n",
    "Leg2_pos_COM_x_num = sp.lambdify((x,y,q1,q2,q3,L_leg2), Leg2_pos_COM_x)\n",
    "Leg2_pos_COM_y_num = sp.lambdify((x,y,q1,q2,q3,L_leg2), Leg2_pos_COM_y)\n",
    "Leg2_pos_COM_num = np.array([[Leg2_pos_COM_x_num], [Leg2_pos_COM_y_num]])"
   ]
  },
  {
   "cell_type": "code",
   "execution_count": 8,
   "metadata": {},
   "outputs": [
    {
     "name": "stdout",
     "output_type": "stream",
     "text": [
      "[[0.625      0.5        0.75      ]\n",
      " [1.08253175 0.3660254  0.4330127 ]] *units in m\n"
     ]
    }
   ],
   "source": [
    "# Compute COM position matrix for (i), units are in (m)\n",
    "P_i_COM = np.array([[torso_pos_COM_num[0][0](qi[0],qi[1],qi[2],qi[3],qi[4],L_torso_num),\n",
    "      Leg1_pos_COM_num[0][0](qi[0],qi[1],qi[2],qi[3],qi[4],L_leg1_num),\n",
    "      Leg2_pos_COM_num[0][0](qi[0],qi[1],qi[2],qi[3],qi[4],L_leg2_num)], \n",
    "          \n",
    "          [torso_pos_COM_num[1][0](qi[0],qi[1],qi[2],qi[3],qi[4],L_torso_num),\n",
    "      Leg1_pos_COM_num[1][0](qi[0],qi[1],qi[2],qi[3],qi[4],L_leg1_num),\n",
    "      Leg2_pos_COM_num[1][0](qi[0],qi[1],qi[2],qi[3],qi[4],L_leg2_num)]])\n",
    "P_i_COM = np.array(P_i_COM)\n",
    "print(P_i_COM, '*units in m')"
   ]
  },
  {
   "cell_type": "code",
   "execution_count": 9,
   "metadata": {},
   "outputs": [
    {
     "name": "stdout",
     "output_type": "stream",
     "text": [
      "[[0.467      0.17098993 0.72502222]\n",
      " [1.15620635 0.46985369 1.2610938 ]] *units in m\n"
     ]
    }
   ],
   "source": [
    "# Compute COM position matrix for (ii), units are in (m)\n",
    "P_ii_COM = np.array([[torso_pos_COM_num[0][0](qii[0],qii[1],qii[2],qii[3],qii[4],L_torso_num),\n",
    "      Leg1_pos_COM_num[0][0](qii[0],qii[1],qii[2],qii[3],qii[4],L_leg1_num),\n",
    "      Leg2_pos_COM_num[0][0](qii[0],qii[1],qii[2],qii[3],qii[4],L_leg2_num)],\n",
    "            \n",
    "           [torso_pos_COM_num[1][0](qii[0],qii[1],qii[2],qii[3],qii[4],L_torso_num),\n",
    "      Leg1_pos_COM_num[1][0](qii[0],qii[1],qii[2],qii[3],qii[4],L_leg1_num),\n",
    "      Leg2_pos_COM_num[1][0](qii[0],qii[1],qii[2],qii[3],qii[4],L_leg2_num)]])\n",
    "print(P_ii_COM, '*units in m')"
   ]
  },
  {
   "cell_type": "code",
   "execution_count": 10,
   "metadata": {},
   "outputs": [
    {
     "data": {
      "text/latex": [
       "$$\\left[\\begin{matrix}\\frac{L_{torso} \\cos{\\left (\\operatorname{q_{3}}{\\left (t \\right )} \\right )} \\frac{d}{d t} \\operatorname{q_{3}}{\\left (t \\right )}}{2} + \\frac{d}{d t} x{\\left (t \\right )}\\\\- \\frac{L_{torso} \\sin{\\left (\\operatorname{q_{3}}{\\left (t \\right )} \\right )} \\frac{d}{d t} \\operatorname{q_{3}}{\\left (t \\right )}}{2} + \\frac{d}{d t} y{\\left (t \\right )}\\end{matrix}\\right]$$"
      ],
      "text/plain": [
       "⎡                   d                    ⎤\n",
       "⎢ Lₜₒᵣₛₒ⋅cos(q₃(t))⋅──(q₃(t))            ⎥\n",
       "⎢                   dt          d        ⎥\n",
       "⎢ ─────────────────────────── + ──(x(t)) ⎥\n",
       "⎢              2                dt       ⎥\n",
       "⎢                                        ⎥\n",
       "⎢                    d                   ⎥\n",
       "⎢  Lₜₒᵣₛₒ⋅sin(q₃(t))⋅──(q₃(t))           ⎥\n",
       "⎢                    dt          d       ⎥\n",
       "⎢- ─────────────────────────── + ──(y(t))⎥\n",
       "⎣               2                dt      ⎦"
      ]
     },
     "execution_count": 10,
     "metadata": {},
     "output_type": "execute_result"
    }
   ],
   "source": [
    "# Symbolically compute torso COM velocity\n",
    "torso_vel_COM_x = sp.diff(torso_pos_COM_x, t)\n",
    "torso_vel_COM_y = sp.diff(torso_pos_COM_y, t)\n",
    "torso_vel_COM_sym = sp.Matrix([[torso_vel_COM_x], [torso_vel_COM_y]])\n",
    "\n",
    "sp.simplify(torso_vel_COM_sym)"
   ]
  },
  {
   "cell_type": "code",
   "execution_count": 11,
   "metadata": {},
   "outputs": [
    {
     "data": {
      "text/latex": [
       "$$\\left[\\begin{matrix}\\frac{L_{leg1} \\left(\\frac{d}{d t} \\operatorname{q_{1}}{\\left (t \\right )} + \\frac{d}{d t} \\operatorname{q_{3}}{\\left (t \\right )}\\right) \\cos{\\left (\\operatorname{q_{1}}{\\left (t \\right )} + \\operatorname{q_{3}}{\\left (t \\right )} \\right )}}{2} + \\frac{d}{d t} x{\\left (t \\right )}\\\\- \\frac{L_{leg1} \\left(\\frac{d}{d t} \\operatorname{q_{1}}{\\left (t \\right )} + \\frac{d}{d t} \\operatorname{q_{3}}{\\left (t \\right )}\\right) \\sin{\\left (\\operatorname{q_{1}}{\\left (t \\right )} + \\operatorname{q_{3}}{\\left (t \\right )} \\right )}}{2} + \\frac{d}{d t} y{\\left (t \\right )}\\end{matrix}\\right]$$"
      ],
      "text/plain": [
       "⎡        ⎛d           d        ⎞                               ⎤\n",
       "⎢ L_leg1⋅⎜──(q₁(t)) + ──(q₃(t))⎟⋅cos(q₁(t) + q₃(t))            ⎥\n",
       "⎢        ⎝dt          dt       ⎠                      d        ⎥\n",
       "⎢ ───────────────────────────────────────────────── + ──(x(t)) ⎥\n",
       "⎢                         2                           dt       ⎥\n",
       "⎢                                                              ⎥\n",
       "⎢         ⎛d           d        ⎞                              ⎥\n",
       "⎢  L_leg1⋅⎜──(q₁(t)) + ──(q₃(t))⎟⋅sin(q₁(t) + q₃(t))           ⎥\n",
       "⎢         ⎝dt          dt       ⎠                      d       ⎥\n",
       "⎢- ───────────────────────────────────────────────── + ──(y(t))⎥\n",
       "⎣                          2                           dt      ⎦"
      ]
     },
     "execution_count": 11,
     "metadata": {},
     "output_type": "execute_result"
    }
   ],
   "source": [
    "# Symbolically compute Leg 1 COM velocity\n",
    "Leg1_vel_COM_x = sp.diff(Leg1_pos_COM_x, t)\n",
    "Leg1_vel_COM_y = sp.diff(Leg1_pos_COM_y, t)\n",
    "Leg1_vel_COM_sym = sp.Matrix([[Leg1_vel_COM_x], [Leg1_vel_COM_y]])\n",
    "\n",
    "sp.simplify(Leg1_vel_COM_sym)"
   ]
  },
  {
   "cell_type": "code",
   "execution_count": 12,
   "metadata": {},
   "outputs": [
    {
     "data": {
      "text/latex": [
       "$$\\left[\\begin{matrix}\\frac{L_{leg2} \\left(\\frac{d}{d t} \\operatorname{q_{2}}{\\left (t \\right )} + \\frac{d}{d t} \\operatorname{q_{3}}{\\left (t \\right )}\\right) \\cos{\\left (\\operatorname{q_{2}}{\\left (t \\right )} + \\operatorname{q_{3}}{\\left (t \\right )} \\right )}}{2} + \\frac{d}{d t} x{\\left (t \\right )}\\\\- \\frac{L_{leg2} \\left(\\frac{d}{d t} \\operatorname{q_{2}}{\\left (t \\right )} + \\frac{d}{d t} \\operatorname{q_{3}}{\\left (t \\right )}\\right) \\sin{\\left (\\operatorname{q_{2}}{\\left (t \\right )} + \\operatorname{q_{3}}{\\left (t \\right )} \\right )}}{2} + \\frac{d}{d t} y{\\left (t \\right )}\\end{matrix}\\right]$$"
      ],
      "text/plain": [
       "⎡        ⎛d           d        ⎞                               ⎤\n",
       "⎢ L_leg2⋅⎜──(q₂(t)) + ──(q₃(t))⎟⋅cos(q₂(t) + q₃(t))            ⎥\n",
       "⎢        ⎝dt          dt       ⎠                      d        ⎥\n",
       "⎢ ───────────────────────────────────────────────── + ──(x(t)) ⎥\n",
       "⎢                         2                           dt       ⎥\n",
       "⎢                                                              ⎥\n",
       "⎢         ⎛d           d        ⎞                              ⎥\n",
       "⎢  L_leg2⋅⎜──(q₂(t)) + ──(q₃(t))⎟⋅sin(q₂(t) + q₃(t))           ⎥\n",
       "⎢         ⎝dt          dt       ⎠                      d       ⎥\n",
       "⎢- ───────────────────────────────────────────────── + ──(y(t))⎥\n",
       "⎣                          2                           dt      ⎦"
      ]
     },
     "execution_count": 12,
     "metadata": {},
     "output_type": "execute_result"
    }
   ],
   "source": [
    "# Symbolically compute Leg 2 COM velocity\n",
    "Leg2_vel_COM_x = sp.diff(Leg2_pos_COM_x, t)\n",
    "Leg2_vel_COM_y = sp.diff(Leg2_pos_COM_y, t)\n",
    "Leg2_vel_COM_sym = sp.Matrix([[Leg2_vel_COM_x], [Leg2_vel_COM_y]])\n",
    "\n",
    "sp.simplify(Leg2_vel_COM_sym)"
   ]
  },
  {
   "cell_type": "code",
   "execution_count": 13,
   "metadata": {},
   "outputs": [],
   "source": [
    "# Convert expressions into functions with numerical inputs (for velocity now)\n",
    "\n",
    "# Subsitute symbolic qdot values into functions \n",
    "torso_vel_COM_x_inter = torso_vel_COM_x.subs({sp.diff(x,t) : xdot, sp.diff(y,t) : ydot,\n",
    "    sp.diff(q1,t) : qdot_1, sp.diff(q2,t) : qdot_2, sp.diff(q3,t) : qdot_3})\n",
    "\n",
    "Leg1_vel_COM_x_inter = Leg1_vel_COM_x.subs({sp.diff(x,t) : xdot, sp.diff(y,t) : ydot,\n",
    "    sp.diff(q1,t) : qdot_1, sp.diff(q2,t) : qdot_2, sp.diff(q3,t) : qdot_3})\n",
    "\n",
    "Leg2_vel_COM_x_inter = Leg2_vel_COM_x.subs({sp.diff(x,t) : xdot, sp.diff(y,t) : ydot,\n",
    "    sp.diff(q1,t) : qdot_1, sp.diff(q2,t) : qdot_2, sp.diff(q3,t) : qdot_3})\n",
    "\n",
    "torso_vel_COM_y_inter = torso_vel_COM_y.subs({sp.diff(x,t) : xdot, sp.diff(y,t) : ydot,\n",
    "    sp.diff(q1,t) : qdot_1, sp.diff(q2,t) : qdot_2, sp.diff(q3,t) : qdot_3})\n",
    "\n",
    "Leg1_vel_COM_y_inter = Leg1_vel_COM_y.subs({sp.diff(x,t) : xdot, sp.diff(y,t) : ydot,\n",
    "    sp.diff(q1,t) : qdot_1, sp.diff(q2,t) : qdot_2, sp.diff(q3,t) : qdot_3})\n",
    "\n",
    "Leg2_vel_COM_y_inter = Leg2_vel_COM_y.subs({sp.diff(x,t) : xdot, sp.diff(y,t) : ydot,\n",
    "    sp.diff(q1,t) : qdot_1, sp.diff(q2,t) : qdot_2, sp.diff(q3,t) : qdot_3})\n",
    "\n",
    "# lambdify\n",
    "torso_vel_COM_x_num = sp.lambdify((x,y,q1,q2,q3,xdot,ydot,qdot_1,qdot_2,qdot_3,L_torso), torso_vel_COM_x_inter)\n",
    "Leg1_vel_COM_x_num = sp.lambdify((x,y,q1,q2,q3,xdot,ydot,qdot_1,qdot_2,qdot_3,L_leg1), Leg1_vel_COM_x_inter)\n",
    "Leg2_vel_COM_x_num = sp.lambdify((x,y,q1,q2,q3,xdot,ydot,qdot_1,qdot_2,qdot_3,L_leg2), Leg2_vel_COM_x_inter)\n",
    "\n",
    "torso_vel_COM_y_num = sp.lambdify((x,y,q1,q2,q3,xdot,ydot,qdot_1,qdot_2,qdot_3,L_torso), torso_vel_COM_y_inter)\n",
    "Leg1_vel_COM_y_num = sp.lambdify((x,y,q1,q2,q3,xdot,ydot,qdot_1,qdot_2,qdot_3,L_leg1), Leg1_vel_COM_y_inter)\n",
    "Leg2_vel_COM_y_num = sp.lambdify((x,y,q1,q2,q3,xdot,ydot,qdot_1,qdot_2,qdot_3,L_leg2), Leg2_vel_COM_y_inter)\n",
    "\n",
    "# organize into numpy arrays for later use\n",
    "torso_vel_COM_num = np.array([[torso_vel_COM_x_num], [torso_vel_COM_y_num]])\n",
    "Leg1_vel_COM_num = np.array([[Leg1_vel_COM_x_num], [Leg1_vel_COM_y_num]])\n",
    "Leg2_vel_COM_num = np.array([[Leg2_vel_COM_x_num], [Leg2_vel_COM_y_num]])"
   ]
  },
  {
   "cell_type": "code",
   "execution_count": 14,
   "metadata": {},
   "outputs": [
    {
     "name": "stdout",
     "output_type": "stream",
     "text": [
      "[[-0.60359239 -1.3167     -1.60372183]\n",
      " [-0.559225   -0.443      -0.9042    ]] *units in m/s\n"
     ]
    }
   ],
   "source": [
    "# Compute COM velocity matrix for (i), units are in (m/s)\n",
    "V_i_COM = np.array([[torso_vel_COM_num[0][0](qi[0],qi[1],qi[2],qi[3],qi[4],qdoti[0],qdoti[1],qdoti[2],qdoti[3],qdoti[4],L_torso_num),\n",
    "      Leg1_vel_COM_num[0][0](qi[0],qi[1],qi[2],qi[3],qi[4],qdoti[0],qdoti[1],qdoti[2],qdoti[3],qdoti[4],L_leg1_num),\n",
    "      Leg2_vel_COM_num[0][0](qi[0],qi[1],qi[2],qi[3],qi[4],qdoti[0],qdoti[1],qdoti[2],qdoti[3],qdoti[4],L_leg2_num)],\n",
    "          \n",
    "           [torso_vel_COM_num[1][0](qi[0],qi[1],qi[2],qi[3],qi[4],qdoti[0],qdoti[1],qdoti[2],qdoti[3],qdoti[4],L_torso_num),\n",
    "      Leg1_vel_COM_num[1][0](qi[0],qi[1],qi[2],qi[3],qi[4],qdoti[0],qdoti[1],qdoti[2],qdoti[3],qdoti[4],L_leg1_num),\n",
    "      Leg2_vel_COM_num[1][0](qi[0],qi[1],qi[2],qi[3],qi[4],qdoti[0],qdoti[1],qdoti[2],qdoti[3],qdoti[4],L_leg2_num)]])\n",
    "\n",
    "print(V_i_COM, '*units in m/s')"
   ]
  },
  {
   "cell_type": "code",
   "execution_count": 15,
   "metadata": {},
   "outputs": [
    {
     "name": "stdout",
     "output_type": "stream",
     "text": [
      "[[ 0.01309793 -0.66625314  0.26853984]\n",
      " [-0.3151875  -0.03899004 -0.70292314]] *units in m/s\n"
     ]
    }
   ],
   "source": [
    "# Compute COM velocity matrix for (i), units are in (m/s)\n",
    "V_ii_COM = np.array([[torso_vel_COM_num[0][0](qii[0],qii[1],qii[2],qii[3],qii[4],qdotii[0],qdotii[1],qdotii[2],qdotii[3],qdotii[4],L_torso_num),\n",
    "      Leg1_vel_COM_num[0][0](qii[0],qii[1],qii[2],qii[3],qii[4],qdotii[0],qdotii[1],qdotii[2],qdotii[3],qdotii[4],L_leg1_num),\n",
    "      Leg2_vel_COM_num[0][0](qii[0],qii[1],qii[2],qii[3],qii[4],qdotii[0],qdotii[1],qdotii[2],qdotii[3],qdotii[4],L_leg2_num)],\n",
    "           \n",
    "           [torso_vel_COM_num[1][0](qii[0],qii[1],qii[2],qii[3],qii[4],qdotii[0],qdotii[1],qdotii[2],qdotii[3],qdotii[4],L_torso_num),\n",
    "      Leg1_vel_COM_num[1][0](qii[0],qii[1],qii[2],qii[3],qii[4],qdotii[0],qdotii[1],qdotii[2],qdotii[3],qdotii[4],L_leg1_num),\n",
    "      Leg2_vel_COM_num[1][0](qii[0],qii[1],qii[2],qii[3],qii[4],qdotii[0],qdotii[1],qdotii[2],qdotii[3],qdotii[4],L_leg2_num)]])\n",
    "\n",
    "print(V_ii_COM, '*units in m/s')"
   ]
  },
  {
   "cell_type": "code",
   "execution_count": 16,
   "metadata": {},
   "outputs": [
    {
     "data": {
      "image/png": "[encoded data removed]",
      "text/latex": [
       "$$\\frac{I_{leg1} \\left(\\frac{d}{d t} \\operatorname{q_{1}}{\\left (t \\right )} + \\frac{d}{d t} \\operatorname{q_{3}}{\\left (t \\right )}\\right)^{2}}{2} + \\frac{I_{leg2} \\left(\\frac{d}{d t} \\operatorname{q_{2}}{\\left (t \\right )} + \\frac{d}{d t} \\operatorname{q_{3}}{\\left (t \\right )}\\right)^{2}}{2} + \\frac{I_{torso} \\left(\\frac{d}{d t} \\operatorname{q_{3}}{\\left (t \\right )}\\right)^{2}}{2} + m_{leg1} \\left(- \\frac{L_{leg1} \\left(\\frac{d}{d t} \\operatorname{q_{1}}{\\left (t \\right )} + \\frac{d}{d t} \\operatorname{q_{3}}{\\left (t \\right )}\\right) \\sin{\\left (\\operatorname{q_{1}}{\\left (t \\right )} + \\operatorname{q_{3}}{\\left (t \\right )} \\right )}}{2} + \\frac{d}{d t} y{\\left (t \\right )}\\right) \\left(- \\frac{L_{leg1} \\left(\\frac{d}{d t} \\operatorname{q_{1}}{\\left (t \\right )} + \\frac{d}{d t} \\operatorname{q_{3}}{\\left (t \\right )}\\right) \\sin{\\left (\\operatorname{q_{1}}{\\left (t \\right )} + \\operatorname{q_{3}}{\\left (t \\right )} \\right )}}{4} + \\frac{\\frac{d}{d t} y{\\left (t \\right )}}{2}\\right) + m_{leg1} \\left(\\frac{L_{leg1} \\left(\\frac{d}{d t} \\operatorname{q_{1}}{\\left (t \\right )} + \\frac{d}{d t} \\operatorname{q_{3}}{\\left (t \\right )}\\right) \\cos{\\left (\\operatorname{q_{1}}{\\left (t \\right )} + \\operatorname{q_{3}}{\\left (t \\right )} \\right )}}{4} + \\frac{\\frac{d}{d t} x{\\left (t \\right )}}{2}\\right) \\left(\\frac{L_{leg1} \\left(\\frac{d}{d t} \\operatorname{q_{1}}{\\left (t \\right )} + \\frac{d}{d t} \\operatorname{q_{3}}{\\left (t \\right )}\\right) \\cos{\\left (\\operatorname{q_{1}}{\\left (t \\right )} + \\operatorname{q_{3}}{\\left (t \\right )} \\right )}}{2} + \\frac{d}{d t} x{\\left (t \\right )}\\right) + m_{leg2} \\left(- \\frac{L_{leg2} \\left(\\frac{d}{d t} \\operatorname{q_{2}}{\\left (t \\right )} + \\frac{d}{d t} \\operatorname{q_{3}}{\\left (t \\right )}\\right) \\sin{\\left (\\operatorname{q_{2}}{\\left (t \\right )} + \\operatorname{q_{3}}{\\left (t \\right )} \\right )}}{2} + \\frac{d}{d t} y{\\left (t \\right )}\\right) \\left(- \\frac{L_{leg2} \\left(\\frac{d}{d t} \\operatorname{q_{2}}{\\left (t \\right )} + \\frac{d}{d t} \\operatorname{q_{3}}{\\left (t \\right )}\\right) \\sin{\\left (\\operatorname{q_{2}}{\\left (t \\right )} + \\operatorname{q_{3}}{\\left (t \\right )} \\right )}}{4} + \\frac{\\frac{d}{d t} y{\\left (t \\right )}}{2}\\right) + m_{leg2} \\left(\\frac{L_{leg2} \\left(\\frac{d}{d t} \\operatorname{q_{2}}{\\left (t \\right )} + \\frac{d}{d t} \\operatorname{q_{3}}{\\left (t \\right )}\\right) \\cos{\\left (\\operatorname{q_{2}}{\\left (t \\right )} + \\operatorname{q_{3}}{\\left (t \\right )} \\right )}}{4} + \\frac{\\frac{d}{d t} x{\\left (t \\right )}}{2}\\right) \\left(\\frac{L_{leg2} \\left(\\frac{d}{d t} \\operatorname{q_{2}}{\\left (t \\right )} + \\frac{d}{d t} \\operatorname{q_{3}}{\\left (t \\right )}\\right) \\cos{\\left (\\operatorname{q_{2}}{\\left (t \\right )} + \\operatorname{q_{3}}{\\left (t \\right )} \\right )}}{2} + \\frac{d}{d t} x{\\left (t \\right )}\\right) + m_{torso} \\left(- \\frac{L_{torso} \\sin{\\left (\\operatorname{q_{3}}{\\left (t \\right )} \\right )} \\frac{d}{d t} \\operatorname{q_{3}}{\\left (t \\right )}}{2} + \\frac{d}{d t} y{\\left (t \\right )}\\right) \\left(- \\frac{L_{torso} \\sin{\\left (\\operatorname{q_{3}}{\\left (t \\right )} \\right )} \\frac{d}{d t} \\operatorname{q_{3}}{\\left (t \\right )}}{4} + \\frac{\\frac{d}{d t} y{\\left (t \\right )}}{2}\\right) + m_{torso} \\left(\\frac{L_{torso} \\cos{\\left (\\operatorname{q_{3}}{\\left (t \\right )} \\right )} \\frac{d}{d t} \\operatorname{q_{3}}{\\left (t \\right )}}{4} + \\frac{\\frac{d}{d t} x{\\left (t \\right )}}{2}\\right) \\left(\\frac{L_{torso} \\cos{\\left (\\operatorname{q_{3}}{\\left (t \\right )} \\right )} \\frac{d}{d t} \\operatorname{q_{3}}{\\left (t \\right )}}{2} + \\frac{d}{d t} x{\\left (t \\right )}\\right)$$"
      ],
      "text/plain": [
       "                              2                                 2             \n",
       "       ⎛d           d        ⎞           ⎛d           d        ⎞           ⎛d \n",
       "I_leg1⋅⎜──(q₁(t)) + ──(q₃(t))⎟    I_leg2⋅⎜──(q₂(t)) + ──(q₃(t))⎟    Iₜₒᵣₛₒ⋅⎜──\n",
       "       ⎝dt          dt       ⎠           ⎝dt          dt       ⎠           ⎝dt\n",
       "─────────────────────────────── + ─────────────────────────────── + ──────────\n",
       "               2                                 2                           2\n",
       "\n",
       "        2                                                                     \n",
       "       ⎞           ⎛         ⎛d           d        ⎞                          \n",
       "(q₃(t))⎟           ⎜  L_leg1⋅⎜──(q₁(t)) + ──(q₃(t))⎟⋅sin(q₁(t) + q₃(t))       \n",
       "       ⎠           ⎜         ⎝dt          dt       ⎠                      d   \n",
       "───────── + m_leg1⋅⎜- ───────────────────────────────────────────────── + ──(y\n",
       "                   ⎝                          2                           dt  \n",
       "\n",
       "                                                                              \n",
       "    ⎞ ⎛         ⎛d           d        ⎞                      d       ⎞        \n",
       "    ⎟ ⎜  L_leg1⋅⎜──(q₁(t)) + ──(q₃(t))⎟⋅sin(q₁(t) + q₃(t))   ──(y(t))⎟        \n",
       "    ⎟ ⎜         ⎝dt          dt       ⎠                      dt      ⎟        \n",
       "(t))⎟⋅⎜- ───────────────────────────────────────────────── + ────────⎟ + m_leg\n",
       "    ⎠ ⎝                          4                              2    ⎠        \n",
       "\n",
       "                                                                              \n",
       "  ⎛       ⎛d           d        ⎞                      d       ⎞ ⎛       ⎛d   \n",
       "  ⎜L_leg1⋅⎜──(q₁(t)) + ──(q₃(t))⎟⋅cos(q₁(t) + q₃(t))   ──(x(t))⎟ ⎜L_leg1⋅⎜──(q\n",
       "  ⎜       ⎝dt          dt       ⎠                      dt      ⎟ ⎜       ⎝dt  \n",
       "1⋅⎜───────────────────────────────────────────────── + ────────⎟⋅⎜────────────\n",
       "  ⎝                        4                              2    ⎠ ⎝            \n",
       "\n",
       "                                                                              \n",
       "        d        ⎞                              ⎞          ⎛         ⎛d       \n",
       "₁(t)) + ──(q₃(t))⎟⋅cos(q₁(t) + q₃(t))           ⎟          ⎜  L_leg2⋅⎜──(q₂(t)\n",
       "        dt       ⎠                      d       ⎟          ⎜         ⎝dt      \n",
       "───────────────────────────────────── + ──(x(t))⎟ + m_leg2⋅⎜- ────────────────\n",
       "            2                           dt      ⎠          ⎝                  \n",
       "\n",
       "                                                                              \n",
       "    d        ⎞                              ⎞ ⎛         ⎛d           d        \n",
       ") + ──(q₃(t))⎟⋅sin(q₂(t) + q₃(t))           ⎟ ⎜  L_leg2⋅⎜──(q₂(t)) + ──(q₃(t))\n",
       "    dt       ⎠                      d       ⎟ ⎜         ⎝dt          dt       \n",
       "───────────────────────────────── + ──(y(t))⎟⋅⎜- ─────────────────────────────\n",
       "        2                           dt      ⎠ ⎝                          4    \n",
       "\n",
       "                                                                              \n",
       "⎞                      d       ⎞          ⎛       ⎛d           d        ⎞     \n",
       "⎟⋅sin(q₂(t) + q₃(t))   ──(y(t))⎟          ⎜L_leg2⋅⎜──(q₂(t)) + ──(q₃(t))⎟⋅cos(\n",
       "⎠                      dt      ⎟          ⎜       ⎝dt          dt       ⎠     \n",
       "──────────────────── + ────────⎟ + m_leg2⋅⎜───────────────────────────────────\n",
       "                          2    ⎠          ⎝                        4          \n",
       "\n",
       "                                                                              \n",
       "                 d       ⎞ ⎛       ⎛d           d        ⎞                    \n",
       "q₂(t) + q₃(t))   ──(x(t))⎟ ⎜L_leg2⋅⎜──(q₂(t)) + ──(q₃(t))⎟⋅cos(q₂(t) + q₃(t)) \n",
       "                 dt      ⎟ ⎜       ⎝dt          dt       ⎠                    \n",
       "────────────── + ────────⎟⋅⎜───────────────────────────────────────────────── \n",
       "                    2    ⎠ ⎝                        2                         \n",
       "\n",
       "                                                                              \n",
       "          ⎞          ⎛                    d                   ⎞ ⎛             \n",
       "          ⎟          ⎜  Lₜₒᵣₛₒ⋅sin(q₃(t))⋅──(q₃(t))           ⎟ ⎜  Lₜₒᵣₛₒ⋅sin(\n",
       "  d       ⎟          ⎜                    dt          d       ⎟ ⎜             \n",
       "+ ──(x(t))⎟ + mₜₒᵣₛₒ⋅⎜- ─────────────────────────── + ──(y(t))⎟⋅⎜- ───────────\n",
       "  dt      ⎠          ⎝               2                dt      ⎠ ⎝             \n",
       "\n",
       "                                                                              \n",
       "       d           d       ⎞          ⎛                  d           d       ⎞\n",
       "q₃(t))⋅──(q₃(t))   ──(y(t))⎟          ⎜Lₜₒᵣₛₒ⋅cos(q₃(t))⋅──(q₃(t))   ──(x(t))⎟\n",
       "       dt          dt      ⎟          ⎜                  dt          dt      ⎟\n",
       "──────────────── + ────────⎟ + mₜₒᵣₛₒ⋅⎜─────────────────────────── + ────────⎟\n",
       "  4                   2    ⎠          ⎝             4                   2    ⎠\n",
       "\n",
       "                                         \n",
       " ⎛                  d                   ⎞\n",
       " ⎜Lₜₒᵣₛₒ⋅cos(q₃(t))⋅──(q₃(t))           ⎟\n",
       " ⎜                  dt          d       ⎟\n",
       "⋅⎜─────────────────────────── + ──(x(t))⎟\n",
       " ⎝             2                dt      ⎠"
      ]
     },
     "metadata": {},
     "output_type": "display_data"
    }
   ],
   "source": [
    "# Symbolically compute Kinetic Energy of the system \n",
    "KE_torso = ( Fraction(1,2)*sp.Transpose(torso_vel_COM_sym)\n",
    "            *m_torso*torso_vel_COM_sym +\n",
    "            Fraction(1,2)*I_torso*(sp.diff(q3, t)**2)*sp.Matrix([[1]]) )\n",
    "\n",
    "KE_leg1 = ( Fraction(1,2)*sp.Transpose(Leg1_vel_COM_sym)\n",
    "            *m_leg1*Leg1_vel_COM_sym +\n",
    "            Fraction(1,2)*I_leg1*(sp.diff(q3+q1, t)**2)*sp.Matrix([[1]]) )\n",
    "\n",
    "KE_leg2 = ( Fraction(1,2)*sp.Transpose(Leg2_vel_COM_sym)\n",
    "            *m_leg2*Leg2_vel_COM_sym +\n",
    "            Fraction(1,2)*I_leg2*(sp.diff(q3+q2, t)**2)*sp.Matrix([[1]]) )\n",
    "\n",
    "KE_tot = KE_torso + KE_leg1 + KE_leg2\n",
    "display(KE_tot[0])"
   ]
  },
  {
   "cell_type": "code",
   "execution_count": 17,
   "metadata": {},
   "outputs": [],
   "source": [
    "# Now numerically compute KE of system for (i) and (ii)\n",
    "KE_tot = KE_tot[0]\n",
    "KE_tot = KE_tot.subs({sp.diff(x,t) : xdot, sp.diff(y,t) : ydot,\n",
    "    sp.diff(q1,t) : qdot_1, sp.diff(q2,t) : qdot_2, sp.diff(q3,t) : qdot_3})\n",
    "\n",
    "KE_tot = sp.lambdify((x,y,q1,q2,q3,xdot,ydot,qdot_1,qdot_2,qdot_3,L_torso,L_leg1,L_leg2,\n",
    "                     m_torso,m_leg1,m_leg2,I_torso,I_leg1,I_leg2), KE_tot)"
   ]
  },
  {
   "cell_type": "code",
   "execution_count": 18,
   "metadata": {},
   "outputs": [
    {
     "name": "stdout",
     "output_type": "stream",
     "text": [
      "18.228930033670192 Joules\n"
     ]
    }
   ],
   "source": [
    "# Total KE for (i), units are in Joules\n",
    "print(KE_tot(qi[0],qi[1],qi[2],qi[3],qi[4],qdoti[0],qdoti[1],qdoti[2],qdoti[3],qdoti[4],L_torso_num,L_leg1_num,L_leg2_num,\n",
    "              m_torso_num,m_leg1_num,m_leg2_num,I_torso_num,I_leg1_num,I_leg2_num), 'Joules')"
   ]
  },
  {
   "cell_type": "code",
   "execution_count": 19,
   "metadata": {},
   "outputs": [
    {
     "name": "stdout",
     "output_type": "stream",
     "text": [
      "3.9276950865124705 Joules\n"
     ]
    }
   ],
   "source": [
    "# Total KE for (ii), units are in Joules\n",
    "print(KE_tot(qii[0],qii[1],qii[2],qii[3],qii[4],qdotii[0],qdotii[1],qdotii[2],qdotii[3],qdotii[4],L_torso_num,L_leg1_num,L_leg2_num,\n",
    "              m_torso_num,m_leg1_num,m_leg2_num,I_torso_num,I_leg1_num,I_leg2_num), 'Joules')"
   ]
  },
  {
   "cell_type": "code",
   "execution_count": 20,
   "metadata": {},
   "outputs": [
    {
     "data": {
      "image/png": "[encoded data removed]",
      "text/latex": [
       "$$g m_{torso} \\left(\\frac{L_{torso} \\cos{\\left (\\operatorname{q_{3}}{\\left (t \\right )} \\right )}}{2} + y{\\left (t \\right )}\\right)$$"
      ],
      "text/plain": [
       "         ⎛Lₜₒᵣₛₒ⋅cos(q₃(t))       ⎞\n",
       "g⋅mₜₒᵣₛₒ⋅⎜───────────────── + y(t)⎟\n",
       "         ⎝        2               ⎠"
      ]
     },
     "metadata": {},
     "output_type": "display_data"
    }
   ],
   "source": [
    "# Symbolically compute PE of system with reference to origin\n",
    "PE_torso = m_torso*g*sp.Matrix([[0, 1]])*torso_pos_COM_sym\n",
    "display(PE_torso[0])"
   ]
  },
  {
   "cell_type": "code",
   "execution_count": 21,
   "metadata": {},
   "outputs": [
    {
     "data": {
      "text/plain": [
       "True"
      ]
     },
     "execution_count": 21,
     "metadata": {},
     "output_type": "execute_result"
    }
   ],
   "source": [
    "# sanity check (can delete later)\n",
    "PE_torso[0] == m_torso*g*(sp.cos(q3)*L_torso*Fraction(1,2) + y)"
   ]
  },
  {
   "cell_type": "code",
   "execution_count": 22,
   "metadata": {},
   "outputs": [
    {
     "data": {
      "image/png": "[encoded data removed]",
      "text/latex": [
       "$$g m_{leg1} \\left(\\frac{L_{leg1} \\cos{\\left (\\operatorname{q_{1}}{\\left (t \\right )} + \\operatorname{q_{3}}{\\left (t \\right )} \\right )}}{2} + y{\\left (t \\right )}\\right)$$"
      ],
      "text/plain": [
       "         ⎛L_leg1⋅cos(q₁(t) + q₃(t))       ⎞\n",
       "g⋅m_leg1⋅⎜───────────────────────── + y(t)⎟\n",
       "         ⎝            2                   ⎠"
      ]
     },
     "metadata": {},
     "output_type": "display_data"
    }
   ],
   "source": [
    "PE_leg1 = m_leg1*g*sp.Matrix([[0, 1]])*Leg1_pos_COM_sym\n",
    "display(PE_leg1[0])"
   ]
  },
  {
   "cell_type": "code",
   "execution_count": 23,
   "metadata": {},
   "outputs": [
    {
     "data": {
      "image/png": "[encoded data removed]",
      "text/latex": [
       "$$g m_{leg2} \\left(\\frac{L_{leg2} \\cos{\\left (\\operatorname{q_{2}}{\\left (t \\right )} + \\operatorname{q_{3}}{\\left (t \\right )} \\right )}}{2} + y{\\left (t \\right )}\\right)$$"
      ],
      "text/plain": [
       "         ⎛L_leg2⋅cos(q₂(t) + q₃(t))       ⎞\n",
       "g⋅m_leg2⋅⎜───────────────────────── + y(t)⎟\n",
       "         ⎝            2                   ⎠"
      ]
     },
     "metadata": {},
     "output_type": "display_data"
    }
   ],
   "source": [
    "PE_leg2 = m_leg2*g*sp.Matrix([[0, 1]])*Leg2_pos_COM_sym\n",
    "display(PE_leg2[0])"
   ]
  },
  {
   "cell_type": "code",
   "execution_count": 24,
   "metadata": {},
   "outputs": [
    {
     "data": {
      "text/plain": [
       "True"
      ]
     },
     "execution_count": 24,
     "metadata": {},
     "output_type": "execute_result"
    }
   ],
   "source": [
    "# sanity check (can delete later)\n",
    "PE_leg1[0] == m_leg1*g*(y - Fraction(1,2)*L_leg1*sp.cos(q1 + q3 - sp.pi))"
   ]
  },
  {
   "cell_type": "code",
   "execution_count": 25,
   "metadata": {},
   "outputs": [
    {
     "data": {
      "image/png": "[encoded data removed]",
      "text/latex": [
       "$$\\frac{g \\left(m_{leg1} \\left(L_{leg1} \\cos{\\left (\\operatorname{q_{1}}{\\left (t \\right )} + \\operatorname{q_{3}}{\\left (t \\right )} \\right )} + 2 y{\\left (t \\right )}\\right) + m_{leg2} \\left(L_{leg2} \\cos{\\left (\\operatorname{q_{2}}{\\left (t \\right )} + \\operatorname{q_{3}}{\\left (t \\right )} \\right )} + 2 y{\\left (t \\right )}\\right) + m_{torso} \\left(L_{torso} \\cos{\\left (\\operatorname{q_{3}}{\\left (t \\right )} \\right )} + 2 y{\\left (t \\right )}\\right)\\right)}{2}$$"
      ],
      "text/plain": [
       "g⋅(m_leg1⋅(L_leg1⋅cos(q₁(t) + q₃(t)) + 2⋅y(t)) + m_leg2⋅(L_leg2⋅cos(q₂(t) + q₃\n",
       "──────────────────────────────────────────────────────────────────────────────\n",
       "                                                                 2            \n",
       "\n",
       "(t)) + 2⋅y(t)) + mₜₒᵣₛₒ⋅(Lₜₒᵣₛₒ⋅cos(q₃(t)) + 2⋅y(t)))\n",
       "─────────────────────────────────────────────────────\n",
       "                                                     "
      ]
     },
     "execution_count": 25,
     "metadata": {},
     "output_type": "execute_result"
    }
   ],
   "source": [
    "PE_tot = PE_torso[0] + PE_leg1[0] + PE_leg2[0]\n",
    "sp.simplify(PE_tot)"
   ]
  },
  {
   "cell_type": "code",
   "execution_count": 26,
   "metadata": {},
   "outputs": [],
   "source": [
    "# Now numerically compute PE of system for (i) and (ii)\n",
    "# PE_tot = PE_tot.subs({sp.diff(x,t) : xdot, sp.diff(y,t) : ydot,\n",
    "#     sp.diff(q1,t) : qdot_1, sp.diff(q2,t) : qdot_2, sp.diff(q3,t) : qdot_3})\n",
    "\n",
    "PE_tot = sp.lambdify((x,y,q1,q2,q3,L_torso,L_leg1,L_leg2,m_torso,m_leg1,m_leg2,g), PE_tot)\n"
   ]
  },
  {
   "cell_type": "code",
   "execution_count": 27,
   "metadata": {},
   "outputs": [
    {
     "name": "stdout",
     "output_type": "stream",
     "text": [
      "145.38918422250686 Joules\n"
     ]
    }
   ],
   "source": [
    "# Total PE for (i), units are in Joules\n",
    "print(PE_tot(qi[0],qi[1],qi[2],qi[3],qi[4],L_torso_num,L_leg1_num,L_leg2_num,\n",
    "    m_torso_num,m_leg1_num,m_leg2_num,g_num), 'Joules')"
   ]
  },
  {
   "cell_type": "code",
   "execution_count": 28,
   "metadata": {},
   "outputs": [
    {
     "name": "stdout",
     "output_type": "stream",
     "text": [
      "198.32681763060134 Joules\n"
     ]
    }
   ],
   "source": [
    "# Total PE for (ii), units are in Joules\n",
    "print(PE_tot(qii[0],qii[1],qii[2],qii[3],qii[4],L_torso_num,L_leg1_num,L_leg2_num,\n",
    "    m_torso_num,m_leg1_num,m_leg2_num,g_num), 'Joules')"
   ]
  },
  {
   "cell_type": "code",
   "execution_count": 29,
   "metadata": {},
   "outputs": [
    {
     "name": "stdout",
     "output_type": "stream",
     "text": [
      "                        % Not supported in Octave:                        \n",
      "                                   % q2                                   \n",
      "                                   % q3                                   \n",
      "                                   % x                                    \n",
      "                                   % y                                    \n",
      "[L_leg2.*sin(q2(t) + q3(t))/2 + x(t); L_leg2.*cos(q2(t) + q3(t))/2 + y(t)]\n"
     ]
    }
   ],
   "source": [
    "# print out expressions for copy/paste into MATLAB\n",
    "sp.pprint(sp.printing.octave.octave_code(Leg2_pos_COM_sym))"
   ]
  },
  {
   "cell_type": "code",
   "execution_count": 30,
   "metadata": {},
   "outputs": [],
   "source": [
    "list = []\n",
    "list.append(1)\n",
    "list.insert(0,5)\n"
   ]
  },
  {
   "cell_type": "code",
   "execution_count": 31,
   "metadata": {},
   "outputs": [
    {
     "data": {
      "image/png": "[encoded data removed]",
      "text/latex": [
       "$$\\left [ 5, \\quad 1\\right ]$$"
      ],
      "text/plain": [
       "[5, 1]"
      ]
     },
     "execution_count": 31,
     "metadata": {},
     "output_type": "execute_result"
    }
   ],
   "source": [
    "list"
   ]
  },
  {
   "cell_type": "code",
   "execution_count": null,
   "metadata": {},
   "outputs": [],
   "source": []
  }
 ],
 "metadata": {
  "kernelspec": {
   "display_name": "Python 3",
   "language": "python",
   "name": "python3"
  },
  "language_info": {
   "codemirror_mode": {
    "name": "ipython",
    "version": 3
   },
   "file_extension": ".py",
   "mimetype": "text/x-python",
   "name": "python",
   "nbconvert_exporter": "python",
   "pygments_lexer": "ipython3",
   "version": "3.7.1"
  }
 },
 "nbformat": 4,
 "nbformat_minor": 2
}
