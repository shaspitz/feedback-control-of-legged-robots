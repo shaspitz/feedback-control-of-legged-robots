{
 "cells": [
  {
   "cell_type": "code",
   "execution_count": 1,
   "metadata": {},
   "outputs": [],
   "source": [
    "import sympy as sp\n",
    "import numpy as np\n",
    "sp.init_printing()\n",
    "from fractions import Fraction\n",
    "from math import sqrt, sin, cos, pi, radians"
   ]
  },
  {
   "cell_type": "code",
   "execution_count": 2,
   "metadata": {},
   "outputs": [],
   "source": [
    "g = sp.symbols(\"g\")\n",
    "L_torso, L_leg1, L_leg2 = sp.symbols(\"L_torso\"), sp.symbols(\"L_leg1\"), sp.symbols(\"L_leg2\")\n",
    "m_torso, m_leg1, m_leg2 = sp.symbols(\"m_torso\"), sp.symbols(\"m_leg1\"), sp.symbols(\"m_leg2\")\n",
    "I_torso, I_leg1, I_leg2 = sp.symbols(\"I_torso\"), sp.symbols(\"I_leg1\"), sp.symbols(\"I_leg2\")\n",
    "\n",
    "t = sp.symbols(\"t\")\n",
    "x = sp.Function(\"x\")(t)\n",
    "y = sp.Function(\"y\")(t)\n",
    "q1 = sp.Function(\"q1\")(t)\n",
    "q2 = sp.Function(\"q2\")(t)\n",
    "q3 = sp.Function(\"q3\")(t)\n",
    "xdot = sp.symbols(\"xdot\")\n",
    "ydot = sp.symbols(\"ydot\")\n",
    "qdot_1 = sp.symbols(\"qdot_1\")\n",
    "qdot_2 = sp.symbols(\"qdot_2\")\n",
    "qdot_3 = sp.symbols(\"qdot_3\")"
   ]
  },
  {
   "cell_type": "code",
   "execution_count": 16,
   "metadata": {},
   "outputs": [
    {
     "data": {
      "text/latex": [
       "$$\\left[\\begin{matrix}1 & 0 & L_{leg1} \\cos{\\left (\\operatorname{q_{1}}{\\left (t \\right )} + \\operatorname{q_{3}}{\\left (t \\right )} \\right )} & 0 & L_{leg1} \\cos{\\left (\\operatorname{q_{1}}{\\left (t \\right )} + \\operatorname{q_{3}}{\\left (t \\right )} \\right )}\\\\0 & 1 & - L_{leg1} \\sin{\\left (\\operatorname{q_{1}}{\\left (t \\right )} + \\operatorname{q_{3}}{\\left (t \\right )} \\right )} & 0 & - L_{leg1} \\sin{\\left (\\operatorname{q_{1}}{\\left (t \\right )} + \\operatorname{q_{3}}{\\left (t \\right )} \\right )}\\end{matrix}\\right]$$"
      ],
      "text/plain": [
       "⎡1  0  L_leg1⋅cos(q₁(t) + q₃(t))   0  L_leg1⋅cos(q₁(t) + q₃(t)) ⎤\n",
       "⎢                                                               ⎥\n",
       "⎣0  1  -L_leg1⋅sin(q₁(t) + q₃(t))  0  -L_leg1⋅sin(q₁(t) + q₃(t))⎦"
      ]
     },
     "metadata": {},
     "output_type": "display_data"
    },
    {
     "data": {
      "text/latex": [
       "$$\\left[\\begin{matrix}0 & 0 & - L_{leg1} \\left(\\frac{d}{d t} \\operatorname{q_{1}}{\\left (t \\right )} + \\frac{d}{d t} \\operatorname{q_{3}}{\\left (t \\right )}\\right) \\sin{\\left (\\operatorname{q_{1}}{\\left (t \\right )} + \\operatorname{q_{3}}{\\left (t \\right )} \\right )} & 0 & - L_{leg1} \\left(\\frac{d}{d t} \\operatorname{q_{1}}{\\left (t \\right )} + \\frac{d}{d t} \\operatorname{q_{3}}{\\left (t \\right )}\\right) \\sin{\\left (\\operatorname{q_{1}}{\\left (t \\right )} + \\operatorname{q_{3}}{\\left (t \\right )} \\right )}\\\\0 & 0 & - L_{leg1} \\left(\\frac{d}{d t} \\operatorname{q_{1}}{\\left (t \\right )} + \\frac{d}{d t} \\operatorname{q_{3}}{\\left (t \\right )}\\right) \\cos{\\left (\\operatorname{q_{1}}{\\left (t \\right )} + \\operatorname{q_{3}}{\\left (t \\right )} \\right )} & 0 & - L_{leg1} \\left(\\frac{d}{d t} \\operatorname{q_{1}}{\\left (t \\right )} + \\frac{d}{d t} \\operatorname{q_{3}}{\\left (t \\right )}\\right) \\cos{\\left (\\operatorname{q_{1}}{\\left (t \\right )} + \\operatorname{q_{3}}{\\left (t \\right )} \\right )}\\end{matrix}\\right]$$"
      ],
      "text/plain": [
       "⎡              ⎛d           d        ⎞                                ⎛d      \n",
       "⎢0  0  -L_leg1⋅⎜──(q₁(t)) + ──(q₃(t))⎟⋅sin(q₁(t) + q₃(t))  0  -L_leg1⋅⎜──(q₁(t\n",
       "⎢              ⎝dt          dt       ⎠                                ⎝dt     \n",
       "⎢                                                                             \n",
       "⎢              ⎛d           d        ⎞                                ⎛d      \n",
       "⎢0  0  -L_leg1⋅⎜──(q₁(t)) + ──(q₃(t))⎟⋅cos(q₁(t) + q₃(t))  0  -L_leg1⋅⎜──(q₁(t\n",
       "⎣              ⎝dt          dt       ⎠                                ⎝dt     \n",
       "\n",
       "     d        ⎞                   ⎤\n",
       ")) + ──(q₃(t))⎟⋅sin(q₁(t) + q₃(t))⎥\n",
       "     dt       ⎠                   ⎥\n",
       "                                  ⎥\n",
       "     d        ⎞                   ⎥\n",
       ")) + ──(q₃(t))⎟⋅cos(q₁(t) + q₃(t))⎥\n",
       "     dt       ⎠                   ⎦"
      ]
     },
     "metadata": {},
     "output_type": "display_data"
    }
   ],
   "source": [
    "J_st = sp.Matrix([[1, 0, L_leg1*sp.cos(q1+q3), 0, L_leg1*sp.cos(q1+q3)],\n",
    "                 [0, 1, -L_leg1*sp.sin(q1+q3), 0, -L_leg1*sp.sin(q1+q3)]])\n",
    "display(J_st)\n",
    "display(sp.diff(J_st, t))"
   ]
  },
  {
   "cell_type": "code",
   "execution_count": 18,
   "metadata": {},
   "outputs": [
    {
     "name": "stdout",
     "output_type": "stream",
     "text": [
      "                                                                              \n",
      "                                                                              \n",
      "                                                                              \n",
      "                                                                              \n",
      "                                                                              \n",
      "[0 0 -L_leg1.*(Derivative(q1(t), t) + Derivative(q3(t), t)).*sin(q1(t) + q3(t)\n",
      "\n",
      "                                                                  % Not suppor\n",
      "                                                                         % Der\n",
      "                                                                         % Der\n",
      "                                                                             %\n",
      "                                                                             %\n",
      ") 0 -L_leg1.*(Derivative(q1(t), t) + Derivative(q3(t), t)).*sin(q1(t) + q3(t))\n",
      "\n",
      "ted in Octave:                                                                \n",
      "ivative                                                                       \n",
      "ivative                                                                       \n",
      " q1                                                                           \n",
      " q3                                                                           \n",
      "; 0 0 -L_leg1.*(Derivative(q1(t), t) + Derivative(q3(t), t)).*cos(q1(t) + q3(t\n",
      "\n",
      "                                                                              \n",
      "                                                                              \n",
      "                                                                              \n",
      "                                                                              \n",
      "                                                                              \n",
      ")) 0 -L_leg1.*(Derivative(q1(t), t) + Derivative(q3(t), t)).*cos(q1(t) + q3(t)\n",
      "\n",
      "  \n",
      "  \n",
      "  \n",
      "  \n",
      "  \n",
      ")]\n"
     ]
    }
   ],
   "source": [
    "sp.pprint(sp.printing.octave.octave_code(sp.diff(J_st, t)))"
   ]
  },
  {
   "cell_type": "code",
   "execution_count": null,
   "metadata": {},
   "outputs": [],
   "source": []
  }
 ],
 "metadata": {
  "kernelspec": {
   "display_name": "Python 3",
   "language": "python",
   "name": "python3"
  },
  "language_info": {
   "codemirror_mode": {
    "name": "ipython",
    "version": 3
   },
   "file_extension": ".py",
   "mimetype": "text/x-python",
   "name": "python",
   "nbconvert_exporter": "python",
   "pygments_lexer": "ipython3",
   "version": "3.7.1"
  }
 },
 "nbformat": 4,
 "nbformat_minor": 2
}
